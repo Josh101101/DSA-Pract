{
 "cells": [
  {
   "cell_type": "markdown",
   "id": "6a85f21e",
   "metadata": {},
   "source": [
    "## Hashing in Python"
   ]
  },
  {
   "cell_type": "code",
   "execution_count": 4,
   "id": "0611f05d",
   "metadata": {},
   "outputs": [
    {
     "name": "stdout",
     "output_type": "stream",
     "text": [
      "1\n",
      "0\n",
      "1\n",
      "0\n",
      "4\n",
      "0\n",
      "2\n"
     ]
    }
   ],
   "source": [
    "# Brute Force\n",
    "\n",
    "def appeared_digits(m, n):\n",
    "    for num in m:\n",
    "        count = 0\n",
    "        for x in n:\n",
    "            if x == num:\n",
    "                count += 1\n",
    "                \n",
    "        print(count)\n",
    "\n",
    "n=[5,3,2,2,1,5,5,7,5,10]\n",
    "m=[10,111,1,9,5,67,2]\n",
    "appeared_digits(m,n)"
   ]
  },
  {
   "cell_type": "code",
   "execution_count": 1,
   "id": "4b3f33d1",
   "metadata": {},
   "outputs": [
    {
     "name": "stdout",
     "output_type": "stream",
     "text": [
      "The number 10 appears 1 times\n",
      "The number 111 appears 0 times\n",
      "The number 1 appears 1 times\n",
      "The number 9 appears 0 times\n",
      "The number 5 appears 4 times\n",
      "The number 67 appears 0 times\n",
      "The number 2 appears 2 times\n"
     ]
    }
   ],
   "source": [
    "# Dictionary Program-\n",
    "n=[5,3,2,2,1,5,5,7,5,10]\n",
    "m=[10,111,1,9,5,67,2]\n",
    "hash_map=dict()\n",
    "for i in range(0,len(n)):\n",
    "    hash_map[n[i]]=hash_map.get(n[i],0)+1\n",
    "for x in m:\n",
    "        print(\"The number\",x,\"appears\",hash_map.get(x,0),\"times\")"
   ]
  },
  {
   "cell_type": "code",
   "execution_count": 2,
   "id": "496f4d0a",
   "metadata": {},
   "outputs": [
    {
     "name": "stdout",
     "output_type": "stream",
     "text": [
      "10 appears 1 time in list n.\n",
      "111 appears 0 time in list n.\n",
      "1 appears 1 time in list n.\n",
      "9 appears 0 time in list n.\n",
      "5 appears 4 time in list n.\n",
      "67 appears 0 time in list n.\n",
      "2 appears 2 time in list n.\n"
     ]
    }
   ],
   "source": [
    "for i in m:\n",
    "    count = n.count(i)\n",
    "    print(f\"{i} appears {count} time in list n.\")"
   ]
  },
  {
   "cell_type": "code",
   "execution_count": null,
   "id": "25f5e072",
   "metadata": {},
   "outputs": [],
   "source": []
  }
 ],
 "metadata": {
  "kernelspec": {
   "display_name": "Python 3",
   "language": "python",
   "name": "python3"
  },
  "language_info": {
   "codemirror_mode": {
    "name": "ipython",
    "version": 3
   },
   "file_extension": ".py",
   "mimetype": "text/x-python",
   "name": "python",
   "nbconvert_exporter": "python",
   "pygments_lexer": "ipython3",
   "version": "3.12.6"
  }
 },
 "nbformat": 4,
 "nbformat_minor": 5
}
